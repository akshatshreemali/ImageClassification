{
 "cells": [
  {
   "cell_type": "markdown",
   "metadata": {
    "colab_type": "text",
    "id": "1m8pgb1EY1pc"
   },
   "source": [
    "## 1. Load Dataset\n"
   ]
  },
  {
   "cell_type": "code",
   "execution_count": 1,
   "metadata": {
    "colab": {
     "base_uri": "https://localhost:8080/",
     "height": 121
    },
    "colab_type": "code",
    "id": "enZVuQtHPAuS",
    "outputId": "20ca0da8-6af7-4437-e856-31d2fe324c79"
   },
   "outputs": [
    {
     "name": "stdout",
     "output_type": "stream",
     "text": [
      "Go to this URL in a browser: https://accounts.google.com/o/oauth2/auth?client_id=947318989803-6bn6qk8qdgf4n4g3pfee6491hc0brc4i.apps.googleusercontent.com&redirect_uri=urn%3aietf%3awg%3aoauth%3a2.0%3aoob&response_type=code&scope=email%20https%3a%2f%2fwww.googleapis.com%2fauth%2fdocs.test%20https%3a%2f%2fwww.googleapis.com%2fauth%2fdrive%20https%3a%2f%2fwww.googleapis.com%2fauth%2fdrive.photos.readonly%20https%3a%2f%2fwww.googleapis.com%2fauth%2fpeopleapi.readonly\n",
      "\n",
      "Enter your authorization code:\n",
      "··········\n",
      "Mounted at /content/drive\n"
     ]
    }
   ],
   "source": [
    "from google.colab import drive\n",
    "drive.mount('/content/drive')"
   ]
  },
  {
   "cell_type": "code",
   "execution_count": 0,
   "metadata": {
    "colab": {},
    "colab_type": "code",
    "id": "qNmMewb_PI-f"
   },
   "outputs": [],
   "source": [
    "# !unzip -uq \"/content/drive/My Drive/ICLR_Challenge/train\" -d \"/content/drive/My Drive/ICLR_Challenge/train\"\n",
    "# !unzip -uq \"/content/drive/My Drive/ICLR_Challenge/test\" -d \"/content/drive/My Drive/ICLR_Challenge/test\""
   ]
  },
  {
   "cell_type": "code",
   "execution_count": 0,
   "metadata": {
    "colab": {
     "base_uri": "https://localhost:8080/",
     "height": 34
    },
    "colab_type": "code",
    "id": "E6WpBdeRRo4Z",
    "outputId": "53a0c3bf-481a-4ed2-d2ed-a70d09812493"
   },
   "outputs": [
    {
     "data": {
      "text/plain": [
       "'/content'"
      ]
     },
     "execution_count": 37,
     "metadata": {
      "tags": []
     },
     "output_type": "execute_result"
    }
   ],
   "source": [
    "pwd"
   ]
  },
  {
   "cell_type": "code",
   "execution_count": 0,
   "metadata": {
    "colab": {
     "base_uri": "https://localhost:8080/",
     "height": 34
    },
    "colab_type": "code",
    "id": "nqqvYRN7o_aO",
    "outputId": "b833cc2b-89ba-4737-878b-d15fc6fb5485"
   },
   "outputs": [
    {
     "name": "stdout",
     "output_type": "stream",
     "text": [
      "/bin/bash: line 0: cd: /content/drive/My Drive/ICLR Challenge/test/test/: No such file or directory\n"
     ]
    }
   ],
   "source": [
    "# Adjust the figure file type\n",
    "# !cd '/content/drive/My Drive/ICLR_Challenge/train/'\n",
    "# !find . -name \"*.jfif\" -exec bash -c 'mv \"$1\" \"${1%.jfif}\".jpg' - '{}' \\;\n",
    "\n",
    "# !cd '/content/drive/My Drive/ICLR_Challenge/train/'\n",
    "# !find . -name \"*.gif\" -exec bash -c 'mv \"$1\" \"${1%.jfif}\".jpg' - '{}' \\;\n",
    "\n",
    "!cd '/content/drive/My Drive/ICLR Challenge/test/test/'\n",
    "!find . -name \"*.jfif\" -exec bash -c 'mv \"$1\" \"${1%.jfif}\".jpg' - '{}' \\;"
   ]
  },
  {
   "cell_type": "markdown",
   "metadata": {
    "colab_type": "text",
    "id": "2vZ87vt4ZAka"
   },
   "source": [
    "## 2. Model Training\n"
   ]
  },
  {
   "cell_type": "code",
   "execution_count": 0,
   "metadata": {
    "colab": {},
    "colab_type": "code",
    "id": "qB91l-6eZFe2"
   },
   "outputs": [],
   "source": [
    "import numpy as np \n",
    "import pandas as pd \n",
    "import matplotlib.pyplot as plt\n",
    "\n",
    "from fastai import *\n",
    "from fastai.vision import *\n",
    "import torch.nn as nn"
   ]
  },
  {
   "cell_type": "code",
   "execution_count": 0,
   "metadata": {
    "colab": {},
    "colab_type": "code",
    "id": "vimB9tPHZou-"
   },
   "outputs": [],
   "source": [
    "# Creating train and test directories\n",
    "train_data_dir = '/content/drive/My Drive/ICLR Challenge/train/'\n",
    "test_data_dir = '/content/drive/My Drive/ICLR Challenge/test/'"
   ]
  },
  {
   "cell_type": "code",
   "execution_count": 0,
   "metadata": {
    "colab": {},
    "colab_type": "code",
    "id": "Jx_vBT45agNY"
   },
   "outputs": [],
   "source": [
    "np.random.seed(42)\n",
    "data = ImageDataBunch.from_folder('/content/drive/My Drive/ICLR Challenge/', \n",
    "                                  train=\"train\",\n",
    "                                  test='test',\n",
    "                                  valid_pct=0.2,\n",
    "                                  ds_tfms=get_transforms(max_rotate=80,\n",
    "                                                         flip_vert=True,\n",
    "                                                         max_zoom=1.5,\n",
    "                                                         max_lighting=0.5), \n",
    "                                  size=256, resize_method=ResizeMethod.SQUISH,\n",
    "                                  bs = 96).normalize(imagenet_stats)"
   ]
  },
  {
   "cell_type": "code",
   "execution_count": 0,
   "metadata": {
    "colab": {
     "base_uri": "https://localhost:8080/",
     "height": 34
    },
    "colab_type": "code",
    "id": "k5LLxUmSDTki",
    "outputId": "3208fa70-5262-4b9a-fce4-a32ca94a4765"
   },
   "outputs": [
    {
     "data": {
      "text/plain": [
       "3"
      ]
     },
     "execution_count": 114,
     "metadata": {
      "tags": []
     },
     "output_type": "execute_result"
    }
   ],
   "source": [
    "data.c"
   ]
  },
  {
   "cell_type": "code",
   "execution_count": 3,
   "metadata": {
    "ExecuteTime": {
     "end_time": "2020-02-27T15:32:11.238547Z",
     "start_time": "2020-02-27T15:32:11.235539Z"
    },
    "colab": {
     "base_uri": "https://localhost:8080/",
     "height": 585
    },
    "colab_type": "code",
    "id": "Nat3EaMKLloE",
    "outputId": "bfe9f2a7-c51e-4181-b86c-c305776ac73a"
   },
   "outputs": [],
   "source": [
    "# to show the data\n",
    "# data.show_batch(rows=2)"
   ]
  },
  {
   "cell_type": "code",
   "execution_count": 0,
   "metadata": {
    "colab": {},
    "colab_type": "code",
    "id": "Xnbu5AkpDs-E"
   },
   "outputs": [],
   "source": [
    "data.shape"
   ]
  },
  {
   "cell_type": "code",
   "execution_count": 5,
   "metadata": {
    "colab": {
     "base_uri": "https://localhost:8080/",
     "height": 34
    },
    "colab_type": "code",
    "id": "P4187INbLziZ",
    "outputId": "45c695ae-30b9-4ab5-b426-a95a1f909a86"
   },
   "outputs": [
    {
     "name": "stdout",
     "output_type": "stream",
     "text": [
      "['healthy_wheat', 'leaf_rust', 'stem_rust'] 3 701 175\n"
     ]
    }
   ],
   "source": [
    "print(data.classes, data.c, len(data.train_ds), len(data.valid_ds))"
   ]
  },
  {
   "cell_type": "code",
   "execution_count": 1,
   "metadata": {
    "ExecuteTime": {
     "end_time": "2020-02-27T15:30:33.840961Z",
     "start_time": "2020-02-27T15:30:33.837987Z"
    },
    "colab": {
     "base_uri": "https://localhost:8080/",
     "height": 370
    },
    "colab_type": "code",
    "id": "pTe-SwWaUwp_",
    "outputId": "188d6836-2758-46d3-83ba-d7090fa46982"
   },
   "outputs": [],
   "source": [
    "# This will create a transfer learninig model from resnet50 and mixup is used for regularization\n",
    "learn = create_cnn(data, models.resnet50).mixup()"
   ]
  },
  {
   "cell_type": "code",
   "execution_count": 2,
   "metadata": {
    "ExecuteTime": {
     "end_time": "2020-02-27T15:31:12.400142Z",
     "start_time": "2020-02-27T15:31:12.398137Z"
    },
    "colab": {
     "base_uri": "https://localhost:8080/",
     "height": 380
    },
    "colab_type": "code",
    "id": "x-yCRWj2agpx",
    "outputId": "3c77d64d-6ef6-434d-ae57-27dfcb36545a"
   },
   "outputs": [],
   "source": [
    "learn.fit_one_cycle(4)   "
   ]
  },
  {
   "cell_type": "code",
   "execution_count": 16,
   "metadata": {
    "colab": {
     "base_uri": "https://localhost:8080/",
     "height": 609
    },
    "colab_type": "code",
    "id": "GdEl_wVALy1p",
    "outputId": "d2dc5561-fc59-45e6-a3d1-f21870c219ac"
   },
   "outputs": [
    {
     "data": {
      "text/html": [
       "\n",
       "    <div>\n",
       "        <style>\n",
       "            /* Turns off some styling */\n",
       "            progress {\n",
       "                /* gets rid of default border in Firefox and Opera. */\n",
       "                border: none;\n",
       "                /* Needs to be in here for Safari polyfill so background images work as expected. */\n",
       "                background-size: auto;\n",
       "            }\n",
       "            .progress-bar-interrupted, .progress-bar-interrupted::-webkit-progress-bar {\n",
       "                background: #F44336;\n",
       "            }\n",
       "        </style>\n",
       "      <progress value='8' class='' max='15', style='width:300px; height:20px; vertical-align: middle;'></progress>\n",
       "      53.33% [8/15 14:47<12:56]\n",
       "    </div>\n",
       "    \n",
       "<table border=\"1\" class=\"dataframe\">\n",
       "  <thead>\n",
       "    <tr style=\"text-align: left;\">\n",
       "      <th>epoch</th>\n",
       "      <th>train_loss</th>\n",
       "      <th>valid_loss</th>\n",
       "      <th>time</th>\n",
       "    </tr>\n",
       "  </thead>\n",
       "  <tbody>\n",
       "    <tr>\n",
       "      <td>0</td>\n",
       "      <td>3.568830</td>\n",
       "      <td>#na#</td>\n",
       "      <td>01:53</td>\n",
       "    </tr>\n",
       "    <tr>\n",
       "      <td>1</td>\n",
       "      <td>3.500969</td>\n",
       "      <td>#na#</td>\n",
       "      <td>01:53</td>\n",
       "    </tr>\n",
       "    <tr>\n",
       "      <td>2</td>\n",
       "      <td>3.511467</td>\n",
       "      <td>#na#</td>\n",
       "      <td>01:52</td>\n",
       "    </tr>\n",
       "    <tr>\n",
       "      <td>3</td>\n",
       "      <td>3.567305</td>\n",
       "      <td>#na#</td>\n",
       "      <td>01:53</td>\n",
       "    </tr>\n",
       "    <tr>\n",
       "      <td>4</td>\n",
       "      <td>3.535232</td>\n",
       "      <td>#na#</td>\n",
       "      <td>01:52</td>\n",
       "    </tr>\n",
       "    <tr>\n",
       "      <td>5</td>\n",
       "      <td>3.339363</td>\n",
       "      <td>#na#</td>\n",
       "      <td>01:52</td>\n",
       "    </tr>\n",
       "    <tr>\n",
       "      <td>6</td>\n",
       "      <td>5.328061</td>\n",
       "      <td>#na#</td>\n",
       "      <td>01:47</td>\n",
       "    </tr>\n",
       "    <tr>\n",
       "      <td>7</td>\n",
       "      <td>7.972949</td>\n",
       "      <td>#na#</td>\n",
       "      <td>01:42</td>\n",
       "    </tr>\n",
       "  </tbody>\n",
       "</table><p>\n",
       "\n",
       "    <div>\n",
       "        <style>\n",
       "            /* Turns off some styling */\n",
       "            progress {\n",
       "                /* gets rid of default border in Firefox and Opera. */\n",
       "                border: none;\n",
       "                /* Needs to be in here for Safari polyfill so background images work as expected. */\n",
       "                background-size: auto;\n",
       "            }\n",
       "            .progress-bar-interrupted, .progress-bar-interrupted::-webkit-progress-bar {\n",
       "                background: #F44336;\n",
       "            }\n",
       "        </style>\n",
       "      <progress value='6' class='' max='7', style='width:300px; height:20px; vertical-align: middle;'></progress>\n",
       "      85.71% [6/7 01:28<00:14 12.1253]\n",
       "    </div>\n",
       "    "
      ],
      "text/plain": [
       "<IPython.core.display.HTML object>"
      ]
     },
     "metadata": {
      "tags": []
     },
     "output_type": "display_data"
    },
    {
     "name": "stdout",
     "output_type": "stream",
     "text": [
      "LR Finder is complete, type {learner_name}.recorder.plot() to see the graph.\n"
     ]
    },
    {
     "data": {
      "image/png": "[encoded data removed]",
      "text/plain": [
       "<Figure size 432x288 with 1 Axes>"
      ]
     },
     "metadata": {
      "tags": []
     },
     "output_type": "display_data"
    }
   ],
   "source": [
    "# 2. Unfreeze the model, run a script to find an optimal learning rate, and fine-tune the whole model.\n",
    "learn.lr_find()\n",
    "learn.recorder.plot()"
   ]
  },
  {
   "cell_type": "code",
   "execution_count": 17,
   "metadata": {
    "colab": {
     "base_uri": "https://localhost:8080/",
     "height": 373
    },
    "colab_type": "code",
    "id": "ZlR2f0d_RgDK",
    "outputId": "4de47ade-cafe-45b8-8629-f9b2cdd741ad"
   },
   "outputs": [
    {
     "data": {
      "text/html": [
       "<table border=\"1\" class=\"dataframe\">\n",
       "  <thead>\n",
       "    <tr style=\"text-align: left;\">\n",
       "      <th>epoch</th>\n",
       "      <th>train_loss</th>\n",
       "      <th>valid_loss</th>\n",
       "      <th>time</th>\n",
       "    </tr>\n",
       "  </thead>\n",
       "  <tbody>\n",
       "    <tr>\n",
       "      <td>0</td>\n",
       "      <td>3.533372</td>\n",
       "      <td>1.810161</td>\n",
       "      <td>02:14</td>\n",
       "    </tr>\n",
       "    <tr>\n",
       "      <td>1</td>\n",
       "      <td>3.343606</td>\n",
       "      <td>1.659140</td>\n",
       "      <td>02:17</td>\n",
       "    </tr>\n",
       "    <tr>\n",
       "      <td>2</td>\n",
       "      <td>3.157243</td>\n",
       "      <td>1.869747</td>\n",
       "      <td>02:14</td>\n",
       "    </tr>\n",
       "    <tr>\n",
       "      <td>3</td>\n",
       "      <td>2.990053</td>\n",
       "      <td>1.640273</td>\n",
       "      <td>02:14</td>\n",
       "    </tr>\n",
       "    <tr>\n",
       "      <td>4</td>\n",
       "      <td>2.789557</td>\n",
       "      <td>1.317441</td>\n",
       "      <td>02:16</td>\n",
       "    </tr>\n",
       "    <tr>\n",
       "      <td>5</td>\n",
       "      <td>2.582458</td>\n",
       "      <td>1.737451</td>\n",
       "      <td>02:14</td>\n",
       "    </tr>\n",
       "    <tr>\n",
       "      <td>6</td>\n",
       "      <td>2.399409</td>\n",
       "      <td>1.495401</td>\n",
       "      <td>02:15</td>\n",
       "    </tr>\n",
       "    <tr>\n",
       "      <td>7</td>\n",
       "      <td>2.241498</td>\n",
       "      <td>0.911271</td>\n",
       "      <td>02:16</td>\n",
       "    </tr>\n",
       "    <tr>\n",
       "      <td>8</td>\n",
       "      <td>2.117887</td>\n",
       "      <td>1.125561</td>\n",
       "      <td>02:14</td>\n",
       "    </tr>\n",
       "    <tr>\n",
       "      <td>9</td>\n",
       "      <td>1.990334</td>\n",
       "      <td>1.015609</td>\n",
       "      <td>02:12</td>\n",
       "    </tr>\n",
       "    <tr>\n",
       "      <td>10</td>\n",
       "      <td>1.885364</td>\n",
       "      <td>1.036245</td>\n",
       "      <td>02:10</td>\n",
       "    </tr>\n",
       "  </tbody>\n",
       "</table>"
      ],
      "text/plain": [
       "<IPython.core.display.HTML object>"
      ]
     },
     "metadata": {
      "tags": []
     },
     "output_type": "display_data"
    }
   ],
   "source": [
    "learn.unfreeze()\n",
    "learn.fit_one_cycle(11, max_lr=slice(1e-6,1e-4))"
   ]
  },
  {
   "cell_type": "code",
   "execution_count": 0,
   "metadata": {
    "colab": {},
    "colab_type": "code",
    "id": "Fj1SgTMMR1oN"
   },
   "outputs": [],
   "source": [
    "learn.save('/content/drive/My Drive/ICLR Challenge/resnet50_epoch15_size256_96_fp16')"
   ]
  },
  {
   "cell_type": "code",
   "execution_count": 0,
   "metadata": {
    "colab": {},
    "colab_type": "code",
    "id": "xTFLqXvuw3_y"
   },
   "outputs": [],
   "source": [
    "# 3. predicion\n",
    "# preds, y = learn.get_preds(DatasetType.Test)\n",
    "\n",
    "preds = []\n",
    "for i in range(len(data.test_ds.x)):\n",
    "    #print(i)\n",
    "    p = learn.predict(data.test_ds.x[i])\n",
    "    preds.append(p[2].numpy())\n",
    "\n",
    "preds = np.array(preds)"
   ]
  },
  {
   "cell_type": "code",
   "execution_count": 20,
   "metadata": {
    "colab": {
     "base_uri": "https://localhost:8080/",
     "height": 246
    },
    "colab_type": "code",
    "id": "jep5k1SRw4C5",
    "outputId": "05e53d12-3c8d-4891-d6e1-23d8c1297ff2"
   },
   "outputs": [
    {
     "name": "stdout",
     "output_type": "stream",
     "text": [
      "healthy_wheat\n",
      "leaf_rust\n",
      "stem_rust\n"
     ]
    },
    {
     "data": {
      "text/html": [
       "<div>\n",
       "<style scoped>\n",
       "    .dataframe tbody tr th:only-of-type {\n",
       "        vertical-align: middle;\n",
       "    }\n",
       "\n",
       "    .dataframe tbody tr th {\n",
       "        vertical-align: top;\n",
       "    }\n",
       "\n",
       "    .dataframe thead th {\n",
       "        text-align: right;\n",
       "    }\n",
       "</style>\n",
       "<table border=\"1\" class=\"dataframe\">\n",
       "  <thead>\n",
       "    <tr style=\"text-align: right;\">\n",
       "      <th></th>\n",
       "      <th>ID</th>\n",
       "      <th>leaf_rust</th>\n",
       "      <th>stem_rust</th>\n",
       "      <th>healthy_wheat</th>\n",
       "    </tr>\n",
       "  </thead>\n",
       "  <tbody>\n",
       "    <tr>\n",
       "      <th>0</th>\n",
       "      <td>Z63BLU</td>\n",
       "      <td>1.000000</td>\n",
       "      <td>1.507972e-09</td>\n",
       "      <td>1.177951e-15</td>\n",
       "    </tr>\n",
       "    <tr>\n",
       "      <th>1</th>\n",
       "      <td>OOALVQ</td>\n",
       "      <td>0.004332</td>\n",
       "      <td>9.956685e-01</td>\n",
       "      <td>4.843816e-13</td>\n",
       "    </tr>\n",
       "    <tr>\n",
       "      <th>2</th>\n",
       "      <td>NGZ2X2</td>\n",
       "      <td>0.001674</td>\n",
       "      <td>9.980732e-01</td>\n",
       "      <td>2.527326e-04</td>\n",
       "    </tr>\n",
       "    <tr>\n",
       "      <th>3</th>\n",
       "      <td>8NRRD6</td>\n",
       "      <td>0.279952</td>\n",
       "      <td>7.197857e-01</td>\n",
       "      <td>2.623598e-04</td>\n",
       "    </tr>\n",
       "    <tr>\n",
       "      <th>4</th>\n",
       "      <td>7HWYNO</td>\n",
       "      <td>0.000278</td>\n",
       "      <td>9.997147e-01</td>\n",
       "      <td>7.294351e-06</td>\n",
       "    </tr>\n",
       "  </tbody>\n",
       "</table>\n",
       "</div>"
      ],
      "text/plain": [
       "       ID  leaf_rust     stem_rust  healthy_wheat\n",
       "0  Z63BLU   1.000000  1.507972e-09   1.177951e-15\n",
       "1  OOALVQ   0.004332  9.956685e-01   4.843816e-13\n",
       "2  NGZ2X2   0.001674  9.980732e-01   2.527326e-04\n",
       "3  8NRRD6   0.279952  7.197857e-01   2.623598e-04\n",
       "4  7HWYNO   0.000278  9.997147e-01   7.294351e-06"
      ]
     },
     "execution_count": 20,
     "metadata": {
      "tags": []
     },
     "output_type": "execute_result"
    }
   ],
   "source": [
    "import os\n",
    "submission = pd.DataFrame({'ID': [s.split('.')[0] for s in os.listdir(test_data_dir+'/test/')  if s.split('.')[1] != 'jfif']})\n",
    "for i, c in enumerate(learn.data.classes):\n",
    "#print(c)\n",
    "  submission[c] = preds[:,i]\n",
    "submission = submission[['ID', 'class1', 'class2', 'class3']] # Get same order as sample sub\n",
    "submission.head()"
   ]
  },
  {
   "cell_type": "code",
   "execution_count": 17,
   "metadata": {
    "colab": {
     "base_uri": "https://localhost:8080/",
     "height": 34
    },
    "colab_type": "code",
    "id": "7AwWE6YkT0xi",
    "outputId": "5df3a794-ce12-4f77-c572-eb991faf92e1"
   },
   "outputs": [
    {
     "data": {
      "text/plain": [
       "(610, 4)"
      ]
     },
     "execution_count": 17,
     "metadata": {
      "tags": []
     },
     "output_type": "execute_result"
    }
   ],
   "source": [
    "submission.shape"
   ]
  },
  {
   "cell_type": "code",
   "execution_count": 0,
   "metadata": {
    "colab": {
     "base_uri": "https://localhost:8080/",
     "height": 34
    },
    "colab_type": "code",
    "id": "L-NfHaihTRJk",
    "outputId": "f358ed5c-0053-4aa7-f286-2db38fdff183"
   },
   "outputs": [
    {
     "name": "stdout",
     "output_type": "stream",
     "text": [
      "'test (1)'\n"
     ]
    }
   ],
   "source": [
    "import os\n",
    "os.chdir(\"/content/drive/My Drive/ICLR Challenge/test\")\n",
    "!ls"
   ]
  },
  {
   "cell_type": "code",
   "execution_count": 0,
   "metadata": {
    "colab": {},
    "colab_type": "code",
    "id": "9CMmZvHlE9Af"
   },
   "outputs": [],
   "source": [
    "submission.to_csv('/content/drive/My Drive/ICLR Challenge/result_26fb_96bs_fp16_resnet50_256_fastai.csv', index=False)"
   ]
  },
  {
   "cell_type": "code",
   "execution_count": 0,
   "metadata": {
    "colab": {},
    "colab_type": "code",
    "id": "i5MmUe7rVH5t"
   },
   "outputs": [],
   "source": [
    "submis"
   ]
  }
 ],
 "metadata": {
  "accelerator": "GPU",
  "colab": {
   "collapsed_sections": [],
   "name": "ICLR Challenge Fastai Test1.ipynb",
   "provenance": []
  },
  "hide_input": false,
  "kernelspec": {
   "display_name": "Python 3",
   "language": "python",
   "name": "python3"
  },
  "language_info": {
   "codemirror_mode": {
    "name": "ipython",
    "version": 3
   },
   "file_extension": ".py",
   "mimetype": "text/x-python",
   "name": "python",
   "nbconvert_exporter": "python",
   "pygments_lexer": "ipython3",
   "version": "3.7.3"
  },
  "toc": {
   "base_numbering": 1,
   "nav_menu": {},
   "number_sections": true,
   "sideBar": true,
   "skip_h1_title": false,
   "title_cell": "Table of Contents",
   "title_sidebar": "Contents",
   "toc_cell": false,
   "toc_position": {},
   "toc_section_display": true,
   "toc_window_display": false
  },
  "varInspector": {
   "cols": {
    "lenName": 16,
    "lenType": 16,
    "lenVar": 40
   },
   "kernels_config": {
    "python": {
     "delete_cmd_postfix": "",
     "delete_cmd_prefix": "del ",
     "library": "var_list.py",
     "varRefreshCmd": "print(var_dic_list())"
    },
    "r": {
     "delete_cmd_postfix": ") ",
     "delete_cmd_prefix": "rm(",
     "library": "var_list.r",
     "varRefreshCmd": "cat(var_dic_list()) "
    }
   },
   "types_to_exclude": [
    "module",
    "function",
    "builtin_function_or_method",
    "instance",
    "_Feature"
   ],
   "window_display": false
  }
 },
 "nbformat": 4,
 "nbformat_minor": 1
}
